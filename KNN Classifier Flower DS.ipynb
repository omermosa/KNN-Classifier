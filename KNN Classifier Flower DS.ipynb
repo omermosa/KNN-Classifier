{
  "nbformat": 4,
  "nbformat_minor": 0,
  "metadata": {
    "colab": {
      "name": "PMDL part 1.ipynb",
      "provenance": [],
      "collapsed_sections": []
    },
    "kernelspec": {
      "name": "python3",
      "display_name": "Python 3"
    }
  },
  "cells": [
    {
      "cell_type": "code",
      "metadata": {
        "id": "GhA_0ZvslClc"
      },
      "source": [
        ""
      ],
      "execution_count": null,
      "outputs": []
    },
    {
      "cell_type": "markdown",
      "metadata": {
        "id": "RwT6HxiWlhaz"
      },
      "source": [
        "#KNN Implementation"
      ]
    },
    {
      "cell_type": "code",
      "metadata": {
        "id": "nuqOvabcqp2e"
      },
      "source": [
        ""
      ],
      "execution_count": null,
      "outputs": []
    },
    {
      "cell_type": "markdown",
      "metadata": {
        "id": "Sd6voyNflsKQ"
      },
      "source": [
        "###Load Dataset and Preprocessing\n"
      ]
    },
    {
      "cell_type": "code",
      "metadata": {
        "id": "U6v6mPigDFOg",
        "outputId": "f7a55c28-b0c0-49ba-8aab-7ed625a976d9",
        "colab": {
          "base_uri": "https://localhost:8080/",
          "height": 34
        }
      },
      "source": [
        "%cd /content/drive/My Drive/PMDL/A1/Part1\n"
      ],
      "execution_count": 4,
      "outputs": [
        {
          "output_type": "stream",
          "text": [
            "/content/drive/My Drive/PMDL/A1/Part1\n"
          ],
          "name": "stdout"
        }
      ]
    },
    {
      "cell_type": "code",
      "metadata": {
        "id": "49eQXWHKlyID"
      },
      "source": [
        "!wget http://download.tensorflow.org/example_images/flower_photos.tgz"
      ],
      "execution_count": null,
      "outputs": []
    },
    {
      "cell_type": "code",
      "metadata": {
        "id": "3b9RNkoJmNrL"
      },
      "source": [
        "! tar -xvzf /content/drive/My\\ Drive/PMDL/A1/Part1/flower_photos.tgz"
      ],
      "execution_count": null,
      "outputs": []
    },
    {
      "cell_type": "code",
      "metadata": {
        "id": "rRdQh6KguI7N"
      },
      "source": [
        "import os\n",
        "import cv2 \n",
        "import numpy as np\n",
        "from skimage.transform import resize #to resize img\n",
        "from scipy import stats\n"
      ],
      "execution_count": 1,
      "outputs": []
    },
    {
      "cell_type": "code",
      "metadata": {
        "id": "36CLFj2jmTOy"
      },
      "source": [
        "def load_data():\n",
        "  pd=\"/content/drive/My Drive/PMDL/A1/Part1/flower_photos\"\n",
        "  dirs=sorted(os.listdir(pd))\n",
        "  flowers_train=[]\n",
        "  classes_train=[]\n",
        "  flowers_test=[]\n",
        "  classes_test=[]\n",
        "  c=1\n",
        "  for f in dirs:\n",
        "    dir=os.path.join(pd,f)\n",
        "    if os.path.isdir(dir):\n",
        "      fs=sorted(os.listdir(dir))\n",
        "      cls=[]\n",
        "      cl=len(fs)\n",
        "      for j,k in enumerate(fs):\n",
        "        #read img, then resize to 32 by 32 (I tried multiple sizes and this yeilded best accuracy)\n",
        "        img=(cv2.imread(os.path.join(dir,k)))\n",
        "        img = resize(img, (32, 32,3))\n",
        "        if cl-(j+1)>=100: \n",
        "          flowers_train.append(np.array(img)) \n",
        "          classes_train.append(c)\n",
        "        else:#keep last 100 of each class for test\n",
        "          flowers_test.append(np.array(img)) \n",
        "          classes_test.append(c)\n",
        "      c+=1\n",
        "  flowers_train=np.array(flowers_train)\n",
        "  classes_train=np.array(classes_train)\n",
        "  flowers_test=np.array(flowers_test)\n",
        "  classes_test=np.array(classes_test)\n",
        "  #flatten the train and test data then return\n",
        "  return (flowers_train.reshape(flowers_train.shape[0],-1),classes_train,flowers_test.reshape(flowers_test.shape[0],-1),classes_test)\n",
        "    \n"
      ],
      "execution_count": null,
      "outputs": []
    },
    {
      "cell_type": "markdown",
      "metadata": {
        "id": "jjCyzxZ7245w"
      },
      "source": [
        ""
      ]
    },
    {
      "cell_type": "code",
      "metadata": {
        "id": "YDgiGJ68onWZ"
      },
      "source": [
        "#classes  {1: daisy, 2: dandelion, 3: roses, 4: sunflowers, 5: tulips} #meaning of each class\n",
        "X_train,y_train,X_test,y_test=load_data()"
      ],
      "execution_count": null,
      "outputs": []
    },
    {
      "cell_type": "code",
      "metadata": {
        "id": "-iU6ZE2dtg71"
      },
      "source": [
        "#shuffle the arrays\n",
        "from sklearn.utils import shuffle\n",
        "X_train,y_train=shuffle(X_train,y_train)\n",
        "X_test,y_test=shuffle(X_test,y_test)"
      ],
      "execution_count": null,
      "outputs": []
    },
    {
      "cell_type": "code",
      "metadata": {
        "id": "U40sexdOz8NH"
      },
      "source": [
        "#save arrays\n",
        "np.save(\"X_train.npy\",X_train)\n",
        "np.save(\"y_train.npy\",y_train)\n",
        "np.save(\"X_test.npy\",X_test)\n",
        "np.save(\"y_test.npy\",y_test)\n"
      ],
      "execution_count": null,
      "outputs": []
    },
    {
      "cell_type": "markdown",
      "metadata": {
        "id": "oAzMlXs9RKw7"
      },
      "source": [
        "###KNN Class"
      ]
    },
    {
      "cell_type": "code",
      "metadata": {
        "id": "cILuArdkDIao"
      },
      "source": [
        "#load numpy dataset arrays\n",
        "X_train=np.load(\"X_train.npy\")\n",
        "y_train=np.load(\"y_train.npy\")\n",
        "X_test=np.load(\"X_test.npy\")\n",
        "y_test=np.load(\"y_test.npy\")\n"
      ],
      "execution_count": 5,
      "outputs": []
    },
    {
      "cell_type": "code",
      "metadata": {
        "id": "SW-BKVjbwRwi"
      },
      "source": [
        "class KNN():\n",
        "  def __init__(self):\n",
        "    pass\n",
        "  def train(self,X,Y):\n",
        "    self.Xt=X\n",
        "    self.yt=Y\n",
        "  def distance(self,a,b,method='L2'):\n",
        "    if method=='L1': #manhatan\n",
        "      return np.sum(np.abs(a-b),axis=-1)\n",
        "    elif method=='L2': #ecludian dist\n",
        "      return np.sqrt(np.sum(np.square(a - b), axis = -1))\n",
        "  def predict(self,X_test,y_test,k,dist_method='L2'):\n",
        "    n_t=X_test.shape[0]\n",
        "    m=X_test.shape[-1]\n",
        "    y_pred=[]\n",
        "    distances=[]\n",
        "    for i,el in enumerate(X_test):\n",
        "      distances.append(self.distance(self.Xt,X_test[i],dist_method))\n",
        "    distances=np.array(distances)\n",
        "    sorted_dist_args=np.argsort(distances,axis=-1)[:,:k] #get arguments of the closest points\n",
        "   \n",
        "    cls=np.array([])\n",
        "    for dis in sorted_dist_args:\n",
        "      cls=self.yt[dis] #get indices of the closest classes\n",
        "      V,C=np.unique(cls,return_counts=True)\n",
        "      y_pred.append(V[np.argmax(C)]) # get the most occured class\n",
        "    acc=np.sum(y_test==y_pred)/n_t # return the accuracy\n",
        "    return np.array(y_pred),acc\n",
        "\n",
        "\n",
        "\n",
        "\n",
        "    \n"
      ],
      "execution_count": 6,
      "outputs": []
    },
    {
      "cell_type": "code",
      "metadata": {
        "id": "CmKIg4L5wT23"
      },
      "source": [
        ""
      ],
      "execution_count": null,
      "outputs": []
    },
    {
      "cell_type": "markdown",
      "metadata": {
        "id": "dTM3CjJNd3Op"
      },
      "source": [
        "###K_folds to find best K"
      ]
    },
    {
      "cell_type": "code",
      "metadata": {
        "id": "T8UK32p6MkUs"
      },
      "source": [
        "def K_folds(n_folds, dist=\"L2\"):\n",
        "  #try Ks as odd numbers from 1 to the 12 of the fold size as well as some high numbers\n",
        "  Ks=list(range(1,13))+[20,30,50,100,200]\n",
        "  accs=[]\n",
        "  groups=np.array(list(range(n_folds)))\n",
        "  Xs=np.array(np.split(X_train,n_folds))\n",
        "  ys=np.array(np.split(y_train,n_folds))\n",
        "  for k in Ks:\n",
        "    acc=[]\n",
        "    for i in range(n_folds):\n",
        "      train_groups=groups !=i\n",
        "      val_groups=groups==i\n",
        "      Xtr=(np.array(np.concatenate(Xs[train_groups])))\n",
        "      Xval=np.squeeze(Xs[val_groups])\n",
        "      Ytr=np.array(np.concatenate(ys[train_groups]))\n",
        "      Yval=ys[val_groups]\n",
        "      clf=KNN()\n",
        "      clf.train(Xtr,Ytr)\n",
        "      yp,ac=clf.predict(Xval,Yval,k,dist)\n",
        "      acc.append(ac)\n",
        "    accs.append(np.mean(acc))\n",
        "  return accs,Ks\n",
        "        "
      ],
      "execution_count": 9,
      "outputs": []
    },
    {
      "cell_type": "code",
      "metadata": {
        "id": "qND2qdd6NBSj"
      },
      "source": [
        "# try for L2 distance\n",
        "accs,Ks=K_folds(5)"
      ],
      "execution_count": 10,
      "outputs": []
    },
    {
      "cell_type": "code",
      "metadata": {
        "id": "iu7E2ibfj_6B"
      },
      "source": [
        "import matplotlib.pyplot as plt\n"
      ],
      "execution_count": 11,
      "outputs": []
    },
    {
      "cell_type": "code",
      "metadata": {
        "id": "2TEalZ1AN4Cq",
        "outputId": "7f253daa-83fd-454c-c5ec-d1cf063139b7",
        "colab": {
          "base_uri": "https://localhost:8080/",
          "height": 264
        }
      },
      "source": [
        "#plt K values vs accuracies \n",
        "plt.plot(Ks,accs)\n",
        "plt.show()"
      ],
      "execution_count": 12,
      "outputs": [
        {
          "output_type": "display_data",
          "data": {
            "image/png": "[encoded data removed]",
            "text/plain": [
              "<Figure size 432x288 with 1 Axes>"
            ]
          },
          "metadata": {
            "tags": [],
            "needs_background": "light"
          }
        }
      ]
    },
    {
      "cell_type": "code",
      "metadata": {
        "id": "ty_oWxeVj2LV"
      },
      "source": [
        "best_k_L2=Ks[np.argmax(accs)]"
      ],
      "execution_count": 13,
      "outputs": []
    },
    {
      "cell_type": "code",
      "metadata": {
        "id": "jf_FjUPgmYIZ"
      },
      "source": [
        "np.save(\"accs_L2.npy\",accs)"
      ],
      "execution_count": 14,
      "outputs": []
    },
    {
      "cell_type": "code",
      "metadata": {
        "id": "SkWIYQNSmZIh"
      },
      "source": [
        "#try for L1 distance\n",
        "accs,Ks=K_folds(5,\"L1\")\n",
        "np.save(\"accs_L1.npy\",accs)\n",
        "np.save(\"Ks.npy\",Ks)\n"
      ],
      "execution_count": 15,
      "outputs": []
    },
    {
      "cell_type": "code",
      "metadata": {
        "id": "tfuify16nKJK",
        "outputId": "492b18d7-2ebb-4822-a7d1-0eed2129c8cd",
        "colab": {
          "base_uri": "https://localhost:8080/",
          "height": 278
        }
      },
      "source": [
        "plt.plot(Ks,accs)\n",
        "plt.xlabel(\"Ks values\")\n",
        "plt.ylabel(\"accuracies \")\n",
        "plt.show()\n",
        "best_k_L1=Ks[np.argmax(accs)]"
      ],
      "execution_count": 16,
      "outputs": [
        {
          "output_type": "display_data",
          "data": {
            "image/png": "[encoded data removed]",
            "text/plain": [
              "<Figure size 432x288 with 1 Axes>"
            ]
          },
          "metadata": {
            "tags": [],
            "needs_background": "light"
          }
        }
      ]
    },
    {
      "cell_type": "markdown",
      "metadata": {
        "id": "LBm9dP0hixvS"
      },
      "source": [
        "#### It is evident from both graphs that the best k is 8 with distance method L1\n"
      ]
    },
    {
      "cell_type": "markdown",
      "metadata": {
        "id": "v-VaK0hyiA3N"
      },
      "source": [
        "###Prediction on Test set using K=8 and L1"
      ]
    },
    {
      "cell_type": "code",
      "metadata": {
        "id": "0GjnVYNFnq4x"
      },
      "source": [
        "clf=KNN()\n",
        "clf.train(X_train,y_train)\n",
        "yp,acc=clf.predict(X_test,y_test,8,'L1')"
      ],
      "execution_count": 17,
      "outputs": []
    },
    {
      "cell_type": "markdown",
      "metadata": {
        "id": "EDJZ8Cx-izgF"
      },
      "source": [
        "#####CCRn function"
      ]
    },
    {
      "cell_type": "code",
      "metadata": {
        "id": "p0U6HOEGeJPw"
      },
      "source": [
        "def CCRn(yt,yp):\n",
        "  cls,counts=np.unique(yt,return_counts=True)\n",
        "  ccrns={}\n",
        "  cls_sizes={}\n",
        "  for i,y in enumerate(yt):\n",
        "    if y in cls_sizes:\n",
        "      cls_sizes[y]+=1\n",
        "    else:\n",
        "      cls_sizes[y]=1\n",
        "    if yp[i]==y:\n",
        "      if y in ccrns:\n",
        "        ccrns[y]+=1\n",
        "      else:\n",
        "        ccrns[y]=1\n",
        "  for c in cls:\n",
        "    ccrns[c]/=cls_sizes[c] #return accuracy by dividing over size of each class \n",
        "  return ccrns\n",
        "  \n",
        "    "
      ],
      "execution_count": 18,
      "outputs": []
    },
    {
      "cell_type": "code",
      "metadata": {
        "id": "lyTN8B9GeQhz",
        "outputId": "39313490-474e-4392-acfd-fa135b441747",
        "colab": {
          "base_uri": "https://localhost:8080/",
          "height": 34
        }
      },
      "source": [
        "ccrns=CCRn(y_test,yp)\n",
        "print(\"ccrns dict:\", ccrns)"
      ],
      "execution_count": 19,
      "outputs": [
        {
          "output_type": "stream",
          "text": [
            "ccrns dict: {4: 0.58, 2: 0.89, 5: 0.11, 1: 0.14, 3: 0.15}\n"
          ],
          "name": "stdout"
        }
      ]
    },
    {
      "cell_type": "code",
      "metadata": {
        "id": "TLRNjR-On1fh",
        "outputId": "879628f7-c35f-49bc-b599-156163cd1885",
        "colab": {
          "base_uri": "https://localhost:8080/",
          "height": 294
        }
      },
      "source": [
        "#represent them in bar chart\n",
        "plt.bar(ccrns.keys(),ccrns.values())\n",
        "plt.xlabel(\"classes\")\n",
        "plt.ylabel(\"accuracy\")\n",
        "plt.title(\"CCRn\")\n",
        "plt.show()"
      ],
      "execution_count": 20,
      "outputs": [
        {
          "output_type": "display_data",
          "data": {
            "image/png": "[encoded data removed]",
            "text/plain": [
              "<Figure size 432x288 with 1 Axes>"
            ]
          },
          "metadata": {
            "tags": [],
            "needs_background": "light"
          }
        }
      ]
    },
    {
      "cell_type": "markdown",
      "metadata": {
        "id": "RJCu1gOXoXvw"
      },
      "source": [
        "#####ACCR\n",
        "######It is returned by default with y_pred from the prediction function of the KNN class (look at KNN.predict for refrence)"
      ]
    },
    {
      "cell_type": "code",
      "metadata": {
        "id": "j5DVFvcHoh9u",
        "outputId": "f914de6d-e1f9-4ceb-9a7f-e2bb569dba7f",
        "colab": {
          "base_uri": "https://localhost:8080/",
          "height": 34
        }
      },
      "source": [
        "print(\"ACCR:\",acc)"
      ],
      "execution_count": 21,
      "outputs": [
        {
          "output_type": "stream",
          "text": [
            "ACCR: 0.374\n"
          ],
          "name": "stdout"
        }
      ]
    },
    {
      "cell_type": "code",
      "metadata": {
        "id": "NvlYcxkCo4iw",
        "outputId": "73087e41-0719-491e-9fac-c8041d49227b",
        "colab": {
          "base_uri": "https://localhost:8080/",
          "height": 34
        }
      },
      "source": [
        "#compare against SKlearn KNN classifier with the same N neighbors for refrence.\n",
        "from sklearn.neighbors import KNeighborsClassifier\n",
        "cl=KNeighborsClassifier(n_neighbors=8,metric='manhattan')\n",
        "cl.fit(X_train,y_train)\n",
        "ypp=cl.predict(X_test)\n",
        "from sklearn.metrics import accuracy_score\n",
        "print(\"Sklearn KNN accuracy:\", accuracy_score(y_test,ypp))"
      ],
      "execution_count": 22,
      "outputs": [
        {
          "output_type": "stream",
          "text": [
            "Sklearn KNN accuracy: 0.374\n"
          ],
          "name": "stdout"
        }
      ]
    },
    {
      "cell_type": "code",
      "metadata": {
        "id": "qKfvZAi1pTMx"
      },
      "source": [
        ""
      ],
      "execution_count": 22,
      "outputs": []
    },
    {
      "cell_type": "markdown",
      "metadata": {
        "id": "TyshTkX3qhEb"
      },
      "source": [
        "###Test K=8 and L1 dist on grey scale images"
      ]
    },
    {
      "cell_type": "code",
      "metadata": {
        "id": "Sg_d4fDxqhse"
      },
      "source": [
        "# reshape X_train, X_test and covert them to grey\n",
        "def convert_grey(img):\n",
        "    return np.dot(img[:,:,:3], [0.2989, 0.587, 0.144]) #convert to grey using X_grey = X_red*0.299+X_green*o.587+X_blue*0.144\n",
        "Xt_grey=[]\n",
        "X_test_grey=[]\n",
        "for i in range(X_train.shape[0]):\n",
        "  Xt_grey.append(X_train[i].reshape(-1,1))\n",
        "  Xt_grey[i]=Xt_grey[i].reshape(32,32,3)\n",
        "  Xt_grey[i]=convert_grey(Xt_grey[i])\n",
        "for i in range(X_test.shape[0]):\n",
        "  X_test_grey.append(X_train[i].reshape(-1,1))\n",
        "  X_test_grey[i]=X_test_grey[i].reshape(32,32,3)\n",
        "  X_test_grey[i]=convert_grey(X_test_grey[i])\n",
        "Xt_grey=np.array(Xt_grey)\n",
        "Xt_grey=(Xt_grey.reshape(Xt_grey.shape[0],-1))\n",
        "X_test_grey=np.array(X_test_grey)\n",
        "X_test_grey=(X_test_grey.reshape(X_test_grey.shape[0],-1))\n"
      ],
      "execution_count": 23,
      "outputs": []
    },
    {
      "cell_type": "code",
      "metadata": {
        "id": "bCKSrOsWrf7G",
        "outputId": "42eb24a0-4aa3-4aff-f715-5c486aa5d251",
        "colab": {
          "base_uri": "https://localhost:8080/",
          "height": 283
        }
      },
      "source": [
        "# show samples of the conversion\n",
        "plt.imshow(X_train[9].reshape(32,32,3))"
      ],
      "execution_count": 24,
      "outputs": [
        {
          "output_type": "execute_result",
          "data": {
            "text/plain": [
              "<matplotlib.image.AxesImage at 0x7f085f149d30>"
            ]
          },
          "metadata": {
            "tags": []
          },
          "execution_count": 24
        },
        {
          "output_type": "display_data",
          "data": {
            "image/png": "[encoded data removed]",
            "text/plain": [
              "<Figure size 432x288 with 1 Axes>"
            ]
          },
          "metadata": {
            "tags": [],
            "needs_background": "light"
          }
        }
      ]
    },
    {
      "cell_type": "code",
      "metadata": {
        "id": "VHbAl1rHrsUT",
        "outputId": "304ff8b7-a727-4941-f244-5c799e90fd1e",
        "colab": {
          "base_uri": "https://localhost:8080/",
          "height": 283
        }
      },
      "source": [
        "plt.imshow(Xt_grey[9].reshape(32,32)),"
      ],
      "execution_count": 25,
      "outputs": [
        {
          "output_type": "execute_result",
          "data": {
            "text/plain": [
              "(<matplotlib.image.AxesImage at 0x7f085f0b7ac8>,)"
            ]
          },
          "metadata": {
            "tags": []
          },
          "execution_count": 25
        },
        {
          "output_type": "display_data",
          "data": {
            "image/png": "[encoded data removed]",
            "text/plain": [
              "<Figure size 432x288 with 1 Axes>"
            ]
          },
          "metadata": {
            "tags": [],
            "needs_background": "light"
          }
        }
      ]
    },
    {
      "cell_type": "code",
      "metadata": {
        "id": "X6e8vKjjuHNd"
      },
      "source": [
        "#try the classifier on grey scale images\n",
        "clf=KNN()\n",
        "clf.train(Xt_grey,y_train)\n",
        "yp,acc=clf.predict(X_test_grey,y_test,8,'L1')"
      ],
      "execution_count": 26,
      "outputs": []
    },
    {
      "cell_type": "code",
      "metadata": {
        "id": "-Vfkps9KuSIY",
        "outputId": "06bd2816-980c-4c30-fc13-cf26766c658c",
        "colab": {
          "base_uri": "https://localhost:8080/",
          "height": 34
        }
      },
      "source": [
        "print(\"gery Scale ACCR:\", acc)"
      ],
      "execution_count": 27,
      "outputs": [
        {
          "output_type": "stream",
          "text": [
            "gery Scale ACCR: 0.206\n"
          ],
          "name": "stdout"
        }
      ]
    },
    {
      "cell_type": "code",
      "metadata": {
        "id": "ekjW-rUduYI8",
        "outputId": "2a581be2-0c84-4294-ca71-f62ea9e5df8e",
        "colab": {
          "base_uri": "https://localhost:8080/",
          "height": 34
        }
      },
      "source": [
        "#compare against SK learn KNN clf\n",
        "from sklearn.neighbors import KNeighborsClassifier\n",
        "cl=KNeighborsClassifier(n_neighbors=8,metric='manhattan')\n",
        "cl.fit(Xt_grey,y_train)\n",
        "ypp=cl.predict(X_test_grey)\n",
        "from sklearn.metrics import accuracy_score\n",
        "print(\"Sklearn KNN accuracy:\", accuracy_score(y_test,ypp))"
      ],
      "execution_count": 28,
      "outputs": [
        {
          "output_type": "stream",
          "text": [
            "Sklearn KNN accuracy: 0.206\n"
          ],
          "name": "stdout"
        }
      ]
    },
    {
      "cell_type": "code",
      "metadata": {
        "id": "rG9fftzEvOFa"
      },
      "source": [
        "##Clearly, the color images return much more accuracy than the grey scale ones."
      ],
      "execution_count": 29,
      "outputs": []
    },
    {
      "cell_type": "code",
      "metadata": {
        "id": "UtMq_imQdO4H"
      },
      "source": [
        ""
      ],
      "execution_count": 29,
      "outputs": []
    }
  ]
}